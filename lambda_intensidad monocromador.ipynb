{
 "metadata": {
  "name": "lambda_intensidad monocromador"
 }, 
 "nbformat": 2, 
 "worksheets": [
  {
   "cells": [
    {
     "cell_type": "code", 
     "collapsed": false, 
     "input": [
      "%pylab inline"
     ], 
     "language": "python", 
     "outputs": [
      {
       "output_type": "stream", 
       "stream": "stdout", 
       "text": [
        "", 
        "Welcome to pylab, a matplotlib-based Python environment [backend: module://IPython.zmq.pylab.backend_inline].", 
        "For more information, type 'help(pylab)'."
       ]
      }
     ], 
     "prompt_number": 35
    }, 
    {
     "cell_type": "code", 
     "collapsed": false, 
     "input": [
      "verde=loadtxt('datosMonocromador/LED_verde1.dat')", 
      "rojo=loadtxt('datosMonocromador/LED_rojo.dat')", 
      "amarillo=loadtxt('datosMonocromador/LED_amarillo.dat')", 
      "azul=loadtxt('datosMonocromador/LED_azul.dat')", 
      "blanco=loadtxt('datosMonocromador/LED_blanco_160.dat')", 
      "violeta=loadtxt('datosMonocromador/LED_violeta_QO.dat')", 
      "infrarrojoC=loadtxt('datosMonocromador/LED_infrarrojo_C.dat')", 
      "infra_810=loadtxt('datosMonocromador/LED_810.dat')"
     ], 
     "language": "python", 
     "outputs": [], 
     "prompt_number": 36
    }, 
    {
     "cell_type": "code", 
     "collapsed": false, 
     "input": [
      "print verde[:,1]", 
      "londa_ver=empty((0))", 
      "lamb=empty((len(verde[:,0])))"
     ], 
     "language": "python", 
     "outputs": [
      {
       "output_type": "stream", 
       "stream": "stdout", 
       "text": [
        "[ -4.34360000e-04   1.38093330e-04   3.78746670e-04   1.38097000e-03", 
        "   4.52861000e-03   1.29101300e-02   1.91913300e-02   1.60610700e-02", 
        "   1.02231300e-02   6.12717000e-03   3.08273000e-03   1.61059000e-03", 
        "   8.55000000e-04   4.59520000e-04   2.54426670e-04   1.66346670e-04", 
        "   1.19480000e-04   6.77066700e-05   6.61733300e-05]"
       ]
      }
     ], 
     "prompt_number": 37
    }, 
    {
     "cell_type": "code", 
     "collapsed": false, 
     "input": [
      "for i in range(len(verde[:,0])):", 
      "    lamb[i]= verde[i,0] * 0.1e-6 + 4.7e-6", 
      "    londa_ver=append(londa_ver,lamb[i])", 
      "print londa_ver"
     ], 
     "language": "python", 
     "outputs": [
      {
       "output_type": "stream", 
       "stream": "stdout", 
       "text": [
        "[  4.80000000e-06   4.90000000e-06   5.00000000e-06   5.10000000e-06", 
        "   5.20000000e-06   5.30000000e-06   5.40000000e-06   5.50000000e-06", 
        "   5.60000000e-06   5.70000000e-06   5.80000000e-06   5.90000000e-06", 
        "   6.00000000e-06   6.10000000e-06   6.20000000e-06   6.30000000e-06", 
        "   6.40000000e-06   6.50000000e-06   6.60000000e-06]"
       ]
      }
     ], 
     "prompt_number": 38
    }, 
    {
     "cell_type": "code", 
     "collapsed": false, 
     "input": [
      "print size(verde[:,0]), size (londa_ver)"
     ], 
     "language": "python", 
     "outputs": [
      {
       "output_type": "stream", 
       "stream": "stdout", 
       "text": [
        "19 19"
       ]
      }
     ], 
     "prompt_number": 39
    }, 
    {
     "cell_type": "code", 
     "collapsed": false, 
     "input": [
      "plt.suptitle('Datos experimentales')", 
      "plot(londa_ver, verde[:,1])", 
      "xlabel('Longitud de onda nm')", 
      "ylabel('Voltaje V')#Voltaje medido en el osciloscopio"
     ], 
     "language": "python", 
     "outputs": [
      {
       "output_type": "pyout", 
       "prompt_number": 43, 
       "text": [
        "<matplotlib.text.Text at 0xa29ab8c>"
       ]
      }, 
      {
       "output_type": "display_data", 
       "png": "[encoded data removed]"
      }
     ], 
     "prompt_number": 43
    }, 
    {
     "cell_type": "code", 
     "collapsed": true, 
     "input": [], 
     "language": "python", 
     "outputs": []
    }
   ]
  }
 ]
}